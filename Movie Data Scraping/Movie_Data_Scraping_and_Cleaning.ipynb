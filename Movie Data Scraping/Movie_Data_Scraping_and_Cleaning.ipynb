{
  "nbformat": 4,
  "nbformat_minor": 0,
  "metadata": {
    "colab": {
      "provenance": []
    },
    "kernelspec": {
      "name": "python3",
      "display_name": "Python 3"
    },
    "language_info": {
      "name": "python"
    }
  },
  "cells": [
    {
      "cell_type": "markdown",
      "source": [
        "I’ll scrape data from a website containing information about movies, clean the data using BeautifulSoup and Pandas, and draw conclusions about the movie dataset."
      ],
      "metadata": {
        "id": "smUh5GaDxe0o"
      }
    },
    {
      "cell_type": "markdown",
      "source": [
        "### TRIED TO EXTRACT DATA FROM WIKIPEDIA WEBPAGE"
      ],
      "metadata": {
        "id": "4ogZNfmPOFAU"
      }
    },
    {
      "cell_type": "code",
      "source": [
        "import requests\n",
        "import pandas as pd\n",
        "from bs4 import BeautifulSoup\n",
        "\n",
        "# Define the URL\n",
        "url = 'https://en.wikipedia.org/wiki/List_of_highest-grossing_films'\n",
        "\n",
        "# Send an HTTP request to the URL\n",
        "response = requests.get(url)\n",
        "\n",
        "# Parse the HTML content of the page\n",
        "soup = BeautifulSoup(response.text, 'html.parser')\n",
        "\n",
        "# Find the movie data within the HTML (assuming the table is the first one on the page)\n",
        "table = soup.find('table', {'class': 'wikitable'})\n",
        "rows = table.find_all('tr')[1:]  # Skip the header row\n",
        "\n",
        "# Extract movie details and create a list of dictionaries\n",
        "movies = []\n",
        "for row in rows:\n",
        "    columns = row.find_all(['td', 'th'])\n",
        "    title = columns[1].text.strip()\n",
        "    year = columns[3].text.strip()\n",
        "    movies.append({'Title': title, 'Year': year})\n",
        "\n",
        "\n",
        "\n",
        "# Create a data frame from the list of dictionaries\n",
        "df = pd.DataFrame(movies)\n",
        "\n",
        "# Display the data frame\n",
        "print(df)\n",
        "\n",
        "\n"
      ],
      "metadata": {
        "id": "OuI7jYD2ygTJ"
      },
      "execution_count": null,
      "outputs": []
    },
    {
      "cell_type": "markdown",
      "source": [
        "### TRIED IMDBPY with MOVIE ID'S"
      ],
      "metadata": {
        "id": "1DJqglifOPGz"
      }
    },
    {
      "cell_type": "code",
      "source": [
        "# Install the IMDbPY library using %pip\n",
        "%pip install IMDbPY\n",
        "\n",
        "from imdb import IMDb\n",
        "import pandas as pd\n",
        "\n",
        "# Create an instance of the IMDb class\n",
        "ia = IMDb()\n",
        "\n",
        "# IMDb movie IDs for the top 10 highest-grossing films (you can extend this list)\n",
        "movie_ids = ['0499549', '0120338', '4154796', '0499549', '0120338', '4154796', '0499549', '0120338', '4154796', '0499549']\n",
        "\n",
        "# Fetch movie data using IMDb IDs\n",
        "movies = []\n",
        "for movie_id in movie_ids:\n",
        "    movie_info = ia.get_movie(movie_id)\n",
        "    title = movie_info['title']\n",
        "    year = movie_info['year']\n",
        "    movies.append({'Title': title, 'Year': year})\n",
        "\n",
        "# Create a data frame from the list of dictionaries\n",
        "df = pd.DataFrame(movies)\n",
        "\n",
        "# Clean the data\n",
        "df_cleaned = df.dropna()  # Remove any rows with missing values\n",
        "df_cleaned['Year'] = pd.to_numeric(df_cleaned['Year'], errors='coerce')  # Convert 'Year' to numeric\n",
        "df_cleaned = df_cleaned.dropna(subset=['Year'])  # Drop rows with missing or incorrect 'Year' values\n",
        "df_cleaned.reset_index(drop=True, inplace=True)  # Reset the index\n",
        "\n",
        "# Display the cleaned data frame\n",
        "print(df_cleaned)\n",
        "\n",
        "\n"
      ],
      "metadata": {
        "id": "age0taF5M1YN"
      },
      "execution_count": null,
      "outputs": []
    },
    {
      "cell_type": "markdown",
      "source": [
        "## DATA ANALYSIS"
      ],
      "metadata": {
        "id": "rcwEdW0BPTqY"
      }
    },
    {
      "cell_type": "code",
      "source": [
        "import matplotlib.pyplot as plt\n",
        "\n",
        "# Assuming you have df_cleaned DataFrame with 'Title' and 'Year' columns\n",
        "\n",
        "# Display basic statistics of the data\n",
        "print(df_cleaned.describe())\n",
        "\n",
        "# Explore average ratings of the movies (assuming 'rating' is a valid attribute)\n",
        "ratings = []\n",
        "for movie_id in movie_ids:\n",
        "    movie_info = ia.get_movie(movie_id)\n",
        "    if 'rating' in movie_info:\n",
        "        ratings.append(movie_info['rating'])\n",
        "\n",
        "# Plot a bar chart for average ratings\n",
        "plt.figure(figsize=(10, 6))\n",
        "plt.bar(df_cleaned['Title'], ratings, color='skyblue')\n",
        "plt.xlabel('Movies')\n",
        "plt.ylabel('Average Rating')\n",
        "plt.title('Average Ratings of Movies')\n",
        "plt.xticks(rotation=45, ha='right')\n",
        "plt.tight_layout()\n",
        "plt.show()\n",
        "\n",
        "# Plot the distribution of ratings of movies\n",
        "plt.figure(figsize=(8, 6))\n",
        "plt.hist(ratings, bins=20, color='lightgreen', edgecolor='black')\n",
        "plt.xlabel('Rating')\n",
        "plt.ylabel('Frequency')\n",
        "plt.title('Distribution of Ratings of Movies')\n",
        "plt.show()"
      ],
      "metadata": {
        "id": "KQ_B1T28O-HS"
      },
      "execution_count": null,
      "outputs": []
    }
  ]
}