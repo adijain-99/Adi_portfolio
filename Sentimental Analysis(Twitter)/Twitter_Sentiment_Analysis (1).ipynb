{
  "nbformat": 4,
  "nbformat_minor": 0,
  "metadata": {
    "colab": {
      "provenance": []
    },
    "kernelspec": {
      "name": "python3",
      "display_name": "Python 3"
    },
    "language_info": {
      "name": "python"
    }
  },
  "cells": [
    {
      "cell_type": "markdown",
      "source": [
        "# Project was made before the re-branding of twitter when it was easy to fetch data from there. Sincce the name has been changed to \"X\" it is difficult to fetch the data."
      ],
      "metadata": {
        "id": "4uM89LV2WpdL"
      }
    },
    {
      "cell_type": "markdown",
      "source": [
        "In this project, we’ll use Natural Language Processing (NLP) techniques and a sentiment analysis algorithm to analyze the sentiment of tweets. We’ll implement this using Python, Tweepy for Twitter data retrieval, and the popular NLP library, NLTK, for sentiment analysis."
      ],
      "metadata": {
        "id": "bVBlATRDwDrr"
      }
    },
    {
      "cell_type": "code",
      "source": [
        "import tweepy\n",
        "import pandas as pd\n",
        "import numpy as np\n",
        "import matplotlib.pyplot as plt\n",
        "import seaborn as sns\n",
        "from textblob import TextBlob\n",
        "from nltk.corpus import stopwords\n",
        "from wordcloud import WordCloud\n",
        "\n",
        "# Setting up Twitter API credentials\n",
        "consumer_key = 'your_consumer_key'\n",
        "consumer_secret = 'your_consumer_secret'\n",
        "access_token = 'your_access_token'\n",
        "access_token_secret = 'your_access_token_secret'\n",
        "\n",
        "# Authenticate with Twitter API\n",
        "auth = tweepy.OAuthHandler(consumer_key, consumer_secret)\n",
        "auth.set_access_token(access_token, access_token_secret)\n",
        "api = tweepy.API(auth)\n",
        "\n",
        "# Define a function to retrieve tweets\n",
        "def get_tweets(query, count=100):\n",
        "    tweets = tweepy.Cursor(api.search, q=query, lang=\"en\").items(count)\n",
        "    tweet_list = [tweet.text for tweet in tweets]\n",
        "    return tweet_list\n",
        "\n",
        "# Get tweets related to a specific query (e.g., \"Python\")\n",
        "tweets = get_tweets(\"Python\", count=200)\n",
        "\n",
        "# Preprocess tweets\n",
        "stop_words = set(stopwords.words('english'))\n"
      ],
      "metadata": {
        "id": "T4SQEAmAwFqi"
      },
      "execution_count": null,
      "outputs": []
    },
    {
      "cell_type": "code",
      "source": [
        "def preprocess_tweet(tweet):\n",
        "    # Remove special characters, links, and stopwords\n",
        "    tweet = ' '.join([word.lower() for word in tweet.split() if word.isalpha() and word not in stop_words])\n",
        "    return tweet\n",
        "\n",
        "   tweets = [preprocess_tweet(tweet) for tweet in tweets]\n",
        "\n",
        "# Analyze sentiment using TextBlob\n",
        "sentiments = [TextBlob(tweet).sentiment.polarity for tweet in tweets]"
      ],
      "metadata": {
        "id": "Gd6OKb0DwVuC"
      },
      "execution_count": null,
      "outputs": []
    },
    {
      "cell_type": "markdown",
      "source": [
        "Also, I used an advanced NLP Model (VADER Sentiment Analysis). I introduced VADER Sentiment Analysis from NLTK, which is specifically designed for social media text."
      ],
      "metadata": {
        "id": "tZM4Trjxwb63"
      }
    },
    {
      "cell_type": "code",
      "source": [
        "from nltk.sentiment import SentimentIntensityAnalyzer\n",
        "\n",
        "# Initialize VADER Sentiment Analyzer\n",
        "sid = SentimentIntensityAnalyzer()\n",
        "\n",
        "# Analyze sentiment using VADER\n",
        "vader_sentiments = [sid.polarity_scores(tweet)['compound'] for tweet in tweets]"
      ],
      "metadata": {
        "id": "-3JnmJkUwcss"
      },
      "execution_count": null,
      "outputs": []
    },
    {
      "cell_type": "markdown",
      "source": [
        "# Real-time dashboard\n",
        "\n",
        "Also, I made a real-Time Dashboard with Dash. I used Dash, a Python web framework, to create a real-time dashboard for sentiment analysis. The dashboard updates every few seconds to display the sentiment histogram and word clouds for positive and negative sentiments."
      ],
      "metadata": {
        "id": "A421ih9Zwi4g"
      }
    },
    {
      "cell_type": "code",
      "source": [
        "import dash\n",
        "import dash_core_components as dcc\n",
        "import dash_html_components as html\n",
        "from dash.dependencies import Input, Output\n",
        "\n",
        "# Initialize Dash app\n",
        "app = dash.Dash(__name__)\n",
        "\n",
        "# Define layout of the dashboard\n",
        "app.layout = html.Div(children=[\n",
        "    dcc.Graph(id='sentiment-histogram'),\n",
        "    dcc.Graph(id='word-cloud-positive'),\n",
        "    dcc.Graph(id='word-cloud-negative')\n",
        "])\n",
        "\n",
        "# Define callback for real-time updates\n",
        "@app.callback(\n",
        "    [Output('sentiment-histogram', 'figure'),\n",
        "     Output('word-cloud-positive', 'figure'),\n",
        "     Output('word-cloud-negative', 'figure')],\n",
        "    [Input('interval-component', 'n_intervals')]\n",
        ")\n",
        "\n",
        "def update_dashboard(n_intervals):\n",
        "    # Get real-time tweets\n",
        "    real_time_tweets = get_tweets(\"AI\", count=100)\n",
        "\n",
        "    # Preprocess and analyze sentiment using TextBlob\n",
        "    real_time_tweets = [preprocess_tweet(tweet) for tweet in real_time_tweets]\n",
        "    real_time_sentiments = [TextBlob(tweet).sentiment.polarity for tweet in real_time_tweets]\n",
        "\n",
        "    # Update Sentiment Histogram\n",
        "    fig_sentiment = sns.histplot(real_time_sentiments, bins=20, kde=True)\n",
        "    fig_sentiment = plt.gcf()\n",
        "\n",
        "    # Update Word Clouds\n",
        "    real_time_positive_tweets = ' '.join([tweet for tweet, sentiment in zip(real_time_tweets, real_time_sentiments) if sentiment > 0])\n",
        "    real_time_negative_tweets = ' '.join([tweet for tweet, sentiment in zip(real_time_tweets, real_time_sentiments) if sentiment < 0])\n",
        "\n",
        "    wordcloud_positive = WordCloud(width=800, height=400, background_color='white').generate(real_time_positive_tweets)\n",
        "    fig_wordcloud_positive = plt.gcf()\n",
        "\n",
        "    wordcloud_negative = WordCloud(width=800, height=400, background_color='white').generate(real_time_negative_tweets)\n",
        "    fig_wordcloud_negative = plt.gcf()\n",
        "\n",
        "    return fig_sentiment, fig_wordcloud_positive, fig_wordcloud_negative\n",
        "\n",
        "# Run the Dash app\n",
        "if __name__ == '__main__':\n",
        "    app.run_server(debug=True)"
      ],
      "metadata": {
        "id": "MKRcTAi9woLG"
      },
      "execution_count": null,
      "outputs": []
    },
    {
      "cell_type": "markdown",
      "source": [
        "# Visualize Sentiment Analysis"
      ],
      "metadata": {
        "id": "-vfFJtzRwtZ_"
      }
    },
    {
      "cell_type": "code",
      "source": [
        "sns.histplot(sentiments, bins=20, kde=True)\n",
        "plt.title('Sentiment Distribution in Tweets')\n",
        "plt.xlabel('Sentiment Polarity')\n",
        "plt.ylabel('Count')\n",
        "plt.show()\n",
        "\n",
        "# Display Word Cloud of positive and negative words\n",
        "positive_tweets = ' '.join([tweet for tweet, sentiment in zip(tweets, sentiments) if sentiment > 0])\n",
        "negative_tweets = ' '.join([tweet for tweet, sentiment in zip(tweets, sentiments) if sentiment < 0])\n",
        "\n",
        "# Word Cloud for Positive Tweets\n",
        "wordcloud_positive = WordCloud(width=800, height=400, background_color='white').generate(positive_tweets)\n",
        "plt.figure(figsize=(10, 5))\n",
        "plt.imshow(wordcloud_positive, interpolation='bilinear')\n",
        "plt.title('Word Cloud for Positive Tweets')\n",
        "plt.axis('off')\n",
        "plt.show()\n",
        "\n",
        "# Word Cloud for Negative Tweets\n",
        "wordcloud_negative = WordCloud(width=800, height=400, background_color='white').generate(negative_tweets)\n",
        "plt.figure(figsize=(10, 5))\n",
        "plt.imshow(wordcloud_negative, interpolation='bilinear')\n",
        "plt.title('Word Cloud for Negative Tweets')\n",
        "plt.axis('off')\n",
        "plt.show()"
      ],
      "metadata": {
        "id": "A8bt9S3GwxYO"
      },
      "execution_count": null,
      "outputs": []
    }
  ]
}