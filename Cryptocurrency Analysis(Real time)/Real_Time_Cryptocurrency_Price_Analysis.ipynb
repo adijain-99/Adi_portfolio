{
  "nbformat": 4,
  "nbformat_minor": 0,
  "metadata": {
    "colab": {
      "provenance": []
    },
    "kernelspec": {
      "name": "python3",
      "display_name": "Python 3"
    },
    "language_info": {
      "name": "python"
    }
  },
  "cells": [
    {
      "cell_type": "markdown",
      "source": [
        "This Python script uses Matplotlib to create a real-time visualization of\n",
        "Bitcoin prices along with a Simple Moving Average (SMA). The script fetches live Bitcoin prices from the CoinDesk API and displays them in a plot that updates in real-time.\n",
        "\n",
        "\n",
        "Script fetches real-time Bitcoin prices using the CoinDesk API and visualizes them in a Matplotlib plot. It calculates a Simple Moving Average (SMA) based on a specified window size and updates the plot continuously.\n",
        "\n",
        "\n",
        "Requirements\n",
        "\n",
        "- Python 3.x\n",
        "- Matplotlib\n",
        "- Requests\n",
        "- Python3-tk (for GUI backend support in Matplotlib)"
      ],
      "metadata": {
        "id": "SHGBApvho2f0"
      }
    },
    {
      "cell_type": "code",
      "source": [
        "# Import necessary libraries\n",
        "import matplotlib\n",
        "matplotlib.use('TkAgg')\n",
        "import matplotlib.pyplot as plt\n",
        "import matplotlib.animation as animation\n",
        "import requests\n",
        "\n",
        "# Import necessary libraries\n",
        "import matplotlib              # Import matplotlib library\n",
        "matplotlib.use('TkAgg')       # Use TkAgg backend for rendering figures with GUI support\n",
        "\n",
        "import matplotlib.pyplot as plt    # Import pyplot module from matplotlib as plt\n",
        "import matplotlib.animation as animation   # Import animation module from matplotlib as animation\n",
        "import requests    # Import requests library for making HTTP requests\n",
        "\n",
        "# Function to fetch Bitcoin prices from CoinDesk API\n",
        "def fetch_bitcoin_prices():\n",
        "    url = 'https://api.coindesk.com/v1/bpi/currentprice.json'   # API endpoint for Bitcoin price\n",
        "    response = requests.get(url)   # Send GET request to the API\n",
        "    data = response.json()   # Convert response to JSON format\n",
        "    price = data['bpi']['USD']['rate_float']   # Extract Bitcoin price in USD\n",
        "    return price   # Return Bitcoin price\n",
        "\n",
        "# Initialize the plot\n",
        "fig, ax = plt.subplots()   # Create a figure and axis for the plot\n",
        "prices = []   # List to store Bitcoin prices\n",
        "sma_values = []   # List to store Simple Moving Average (SMA) values\n",
        "window_size = 20   # Window size for SMA calculation\n",
        "\n",
        "# Function to update plot with new data\n",
        "def animate(i):\n",
        "    price = fetch_bitcoin_prices()   # Fetch current Bitcoin price\n",
        "    prices.append(price)   # Add fetched price to prices list\n",
        "\n",
        "    # Calculate SMA\n",
        "    if len(prices) >= window_size:\n",
        "        sma = sum(prices[-window_size:]) / window_size   # Calculate SMA\n",
        "        sma_values.append(sma)   # Add calculated SMA to sma_values list\n",
        "\n",
        "    ax.clear()   # Clear the previous plot\n",
        "    ax.plot(prices, label='Bitcoin Price')   # Plot Bitcoin prices\n",
        "    if len(sma_values) > 0:\n",
        "        ax.plot(sma_values, label=f'{window_size}-period SMA', linestyle='--')   # Plot SMA\n",
        "    ax.legend()   # Display legend\n",
        "    ax.set_title('Real-Time Bitcoin Prices with SMA')   # Set plot title\n",
        "    ax.set_xlabel('Time')   # Set x-axis label\n",
        "    ax.set_ylabel('Price (USD)')   # Set y-axis label\n",
        "\n",
        "# Create animation\n",
        "ani = animation.FuncAnimation(fig, animate, interval=1000)   # Update plot every 1000 milliseconds\n",
        "\n",
        "# Show the plot\n",
        "plt.show()   # Display the animated plot"
      ],
      "metadata": {
        "id": "8J2rXFH7jFrQ"
      },
      "execution_count": null,
      "outputs": []
    },
    {
      "cell_type": "markdown",
      "source": [
        "### TkAgg is not supported by google collab so here is the alternative code for google collab"
      ],
      "metadata": {
        "id": "w8oFUJpXRPQj"
      }
    },
    {
      "cell_type": "code",
      "source": [
        "import matplotlib.pyplot as plt\n",
        "import matplotlib.animation as animation\n",
        "from IPython.display import display, clear_output\n",
        "import requests\n",
        "import time\n",
        "\n",
        "# Function to fetch Bitcoin prices from CoinDesk API\n",
        "def fetch_bitcoin_prices():\n",
        "    url = 'https://api.coindesk.com/v1/bpi/currentprice.json'   # API endpoint for Bitcoin price\n",
        "    response = requests.get(url)   # Send GET request to the API\n",
        "    data = response.json()   # Convert response to JSON format\n",
        "    price = data['bpi']['USD']['rate_float']   # Extract Bitcoin price in USD\n",
        "    return price   # Return Bitcoin price\n",
        "\n",
        "# Initialize the plot\n",
        "fig, ax = plt.subplots()   # Create a figure and axis for the plot\n",
        "prices = []   # List to store Bitcoin prices\n",
        "sma_values = []   # List to store Simple Moving Average (SMA) values\n",
        "window_size = 20   # Window size for SMA calculation\n",
        "\n",
        "# Function to update plot with new data\n",
        "def animate(i):\n",
        "    price = fetch_bitcoin_prices()   # Fetch current Bitcoin price\n",
        "    prices.append(price)   # Add fetched price to prices list\n",
        "\n",
        "    # Calculate SMA\n",
        "    if len(prices) >= window_size:\n",
        "        sma = sum(prices[-window_size:]) / window_size   # Calculate SMA\n",
        "        sma_values.append(sma)   # Add calculated SMA to sma_values list\n",
        "\n",
        "    ax.clear()   # Clear the previous plot\n",
        "    ax.plot(prices, label='Bitcoin Price')   # Plot Bitcoin prices\n",
        "    if len(sma_values) > 0:\n",
        "        ax.plot(sma_values, label=f'{window_size}-period SMA', linestyle='--')   # Plot SMA\n",
        "    ax.legend()   # Display legend\n",
        "    ax.set_title('Real-Time Bitcoin Prices with SMA')   # Set plot title\n",
        "    ax.set_xlabel('Time')   # Set x-axis label\n",
        "    ax.set_ylabel('Price (USD)')   # Set y-axis label\n",
        "\n",
        "# Create animation\n",
        "for i in range(50):  # Run the animation for 50 iterations (you can adjust this)\n",
        "    animate(i)\n",
        "    time.sleep(1)  # Wait for 1 second\n",
        "    clear_output(wait=True)  # Clear the previous output to simulate animation\n",
        "    display(fig)  # Display the updated plot\n",
        "\n",
        "plt.close(fig)  # Close the figure after the loop to avoid duplicate plots"
      ],
      "metadata": {
        "id": "zr6h7586Qv7E"
      },
      "execution_count": null,
      "outputs": []
    }
  ]
}